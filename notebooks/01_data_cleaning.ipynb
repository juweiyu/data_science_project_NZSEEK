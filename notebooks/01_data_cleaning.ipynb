{
 "cells": [
  {
   "cell_type": "code",
   "execution_count": 1,
   "metadata": {},
   "outputs": [],
   "source": [
    "# import\n",
    "import numpy as np\n",
    "import pandas as pd\n",
    "import random\n",
    "import re\n",
    "import warnings\n",
    "warnings.filterwarnings('ignore')"
   ]
  },
  {
   "cell_type": "markdown",
   "metadata": {},
   "source": [
    "### Create a header and an ID for each file "
   ]
  },
  {
   "cell_type": "code",
   "execution_count": 2,
   "metadata": {},
   "outputs": [],
   "source": [
    "admin_header_name = [\"Job\", \"URL\", \"Company\", \"Location\", \"Posted Date\", \"Classification\"]\n",
    "admin_file_name = 'NZ_Admin_JOBS.xlsx'\n",
    "admin_id = 0\n",
    "\n",
    "banking_header_name = [\"Job\", \"URL\", \"Company\", \"Location\", \"Classification_2\", \"Posted Date\", \"Classification\"]\n",
    "banking_file_name = 'NZ_Banking_JOBS.xlsx'\n",
    "banking_id = 1\n",
    "\n",
    "ceo_header_name = [\"Job\", \"URL\", \"Company\", \"Location\", \"Classification\", \"Posted Date\"]\n",
    "ceo_file_name = 'NZ_CEO_JOBS.xlsx'\n",
    "ceo_id = 2\n",
    "\n",
    "construction_header_name = [\"Job\", \"URL\", \"Company\", \"Location\", \"Classification_2\", \"Posted Date\", \"Classification\"]\n",
    "construction_file_name = 'NZ_Construction_JOBS.xlsx'\n",
    "construction_id = 3"
   ]
  },
  {
   "cell_type": "markdown",
   "metadata": {},
   "source": [
    "# ----------------------------------Functions----------------------------------"
   ]
  },
  {
   "cell_type": "markdown",
   "metadata": {},
   "source": [
    "### 1. read_file \n",
    "Read the file to dataframe and add a header to it"
   ]
  },
  {
   "cell_type": "code",
   "execution_count": 3,
   "metadata": {},
   "outputs": [],
   "source": [
    "def read_file(file_name, header_name, file_id):\n",
    "    # read the file and add a header\n",
    "    df = pd.read_excel(file_name, header=None, names=header_name, engine='openpyxl')\n",
    "    if file_id == 1 or file_id == 3:\n",
    "        df = df.drop('Classification_2',axis=1)\n",
    "    elif file_id == 2 or file_id == 3:\n",
    "        df = df.iloc[1:]\n",
    "    return df"
   ]
  },
  {
   "cell_type": "markdown",
   "metadata": {},
   "source": [
    "### 2. cut_half \n",
    "In the raw data, there exists many dupications. This function is used to cut the duplicated strings half.\n",
    "E.g., it cuts \"TaurangaTauranga\" to \"Tauranga\""
   ]
  },
  {
   "cell_type": "code",
   "execution_count": 4,
   "metadata": {},
   "outputs": [],
   "source": [
    "def cut_half(x):\n",
    "    # a function used in data_cleaning\n",
    "    # cut the duplicated string half\n",
    "    # e.g., cut \"TaurangaTauranga\" to \"Tauranga\"\n",
    "    \n",
    "    if x != None:\n",
    "        if x[-4:] == \"area\":\n",
    "            return (x[0:((len(x)-4)//2)])\n",
    "        else:\n",
    "            return (x[0:(len(x)//2)])\n",
    "    else:\n",
    "        return None"
   ]
  },
  {
   "cell_type": "markdown",
   "metadata": {},
   "source": [
    "### 3. find_number \n",
    "In the raw data, \"salary\" and \"salary infor\" are merged into the same column. This function separates \"salary\" and \"salary info\"."
   ]
  },
  {
   "cell_type": "code",
   "execution_count": 5,
   "metadata": {},
   "outputs": [],
   "source": [
    "def find_number(x):\n",
    "    # separate \"salary\" and \"salary info\"\n",
    "    if x != None and not pd.isna(x):\n",
    "        if any(char.isdigit() for char in x):\n",
    "            return x + \";\"\n",
    "        else:\n",
    "            return \";\" + x "
   ]
  },
  {
   "cell_type": "markdown",
   "metadata": {},
   "source": [
    "### 4. low_high_salary\n",
    "In the raw data, the format of the salary is messy. E.g., it has both per hour and yearly pay in the form of $20, $20k, or $40,000. However, the low and high salary are always separated by \"-\". This function separates the high and lowest and highest salary, and then we estimate the empty data."
   ]
  },
  {
   "cell_type": "code",
   "execution_count": 6,
   "metadata": {},
   "outputs": [],
   "source": [
    "def low_high_salary(x, file_id):\n",
    "    # refine the salary using regular expression\n",
    "    # get the lowest and the highest salary\n",
    "    \n",
    "    output = []\n",
    "    if x != None:\n",
    "        x = x.replace(',','')\n",
    "        x = ''.join((ch if ch in '0123456789.' else ' ') for ch in x)\n",
    "        x = x.replace(' .','').replace(' 0','0')\n",
    "        listOfNumbers = [float(i) for i in x.split()]\n",
    "        if len(listOfNumbers) == 1:\n",
    "            output = [listOfNumbers[0], listOfNumbers[0]]\n",
    "        elif len(listOfNumbers) > 1:\n",
    "            output = [listOfNumbers[0], listOfNumbers[1]]\n",
    "        # if \"0k \" in x or \"5k \" in x or \"0K \" in x or \"5K \" in x:\n",
    "        if bool(re.match(\"\\dk\", x)):\n",
    "            output = [i * 1000 for i in output]\n",
    "        if output and output[0] < 1000 and output[1] < 1000:\n",
    "            output = [i * 1760 for i in output]\n",
    "        if output and output[0] < 1000 and output[1] > 1000:\n",
    "            output[0] = output[0] * 1000\n",
    "    if not output:\n",
    "        if file_id == 0:\n",
    "            lo = random.uniform(35000, 55000)\n",
    "            output = [lo, random.uniform(lo, 55000)]\n",
    "        elif file_id == 1:\n",
    "            lo = random.uniform(77000, 141000)\n",
    "            output = [lo, random.uniform(lo, 141000)]\n",
    "        elif file_id == 2:\n",
    "            lo = random.uniform(84000, 255000)\n",
    "            output = [lo, random.uniform(lo, 255000)]\n",
    "    listToStr = ' '.join([str(int(i)) for i in output])       \n",
    "    return listToStr"
   ]
  },
  {
   "cell_type": "markdown",
   "metadata": {},
   "source": [
    "### 5. fix_posted_data\n",
    "In the raw data. the \"posted data\" could take the form of either \"featured at\" or $4d ago, at$. We refine them all to \"days\" (integer)"
   ]
  },
  {
   "cell_type": "code",
   "execution_count": 7,
   "metadata": {},
   "outputs": [],
   "source": [
    "def fix_posted_date(x):\n",
    "    # refine the posted date\n",
    "    if \"Featured\" in x or bool(re.search(\"\\d[h,m]\", x)):\n",
    "        return str(0)\n",
    "    elif bool(re.search(\"\\dd\", x)):\n",
    "        return ''.join((ch if ch in '0123456789' else '') for ch in x)"
   ]
  },
  {
   "cell_type": "markdown",
   "metadata": {},
   "source": [
    "### 6. fix_company\n",
    "In the raw data, sometimes the company has a \"at \" at the begining. This function fixs this problem. "
   ]
  },
  {
   "cell_type": "code",
   "execution_count": 8,
   "metadata": {},
   "outputs": [],
   "source": [
    "def fix_company(x):\n",
    "    if len(x) > 3 and x[:3] == \"at \":\n",
    "        return x[3:]\n",
    "    else:\n",
    "        return x"
   ]
  },
  {
   "cell_type": "markdown",
   "metadata": {},
   "source": [
    "### 7. The main data preprocessing function"
   ]
  },
  {
   "cell_type": "code",
   "execution_count": 9,
   "metadata": {},
   "outputs": [],
   "source": [
    "def data_cleaning(df, file_id):\n",
    "    # data cleaning\n",
    "    # file_id identifies which file it is\n",
    "    \n",
    "    # 1. Refine the \"posted date\" column\n",
    "    \n",
    "    column_date_place = df[\"Posted Date\"].str.split(\",\", n = -1, expand = True) \n",
    "    df[\"Posted Date\"] = column_date_place[0]\n",
    "    df[\"Posted Place\"] = column_date_place[2]\n",
    "    \n",
    "    \n",
    "    # 2. Refine the \"location\" column\n",
    "    \n",
    "    # 2.1 Some rows contain the salary after \",\" and we need to remove them\n",
    "    df[\"Location\"] = df[\"Location\"].str.split(\",\", n = 1, expand = True)[0]\n",
    "    \n",
    "    # 2.2 Need to remove the \"location:\" at the beginning of the strings, and then separate the region and the city\n",
    "    column_location = df[\"Location\"].str.split(\": \", n = 3, expand = True) \n",
    "    df['Region'] = column_location[1]\n",
    "    df['City'] = column_location[2]\n",
    "    df = df.drop('Location',axis=1)\n",
    "    \n",
    "    # 2.3 Remove duplications\n",
    "    df[\"Region\"] = df[\"Region\"].apply(cut_half)\n",
    "    df[\"City\"] = df[\"City\"].apply(cut_half)\n",
    "    \n",
    "    \n",
    "    # 3. Refine \"classification\"\n",
    "    # Some rows contain the \"classification\" and the \"subclassification\", others contain the salary\n",
    "    # Analyse \"classification\" and \"salary\" separately as df_classification and df_salary\n",
    "    \n",
    "    # 3.1 analyse \"classification\" \n",
    "    \n",
    "    df_classification = df[df.Classification.str.contains(':',case=False)]\n",
    "    column_classifications = df_classification[\"Classification\"].str.split(\"subClassification: \", n = -1, expand = True)\n",
    "    df_classification['Classification'] = column_classifications[0].str.split(\"classification: \", n = -1, expand = True)[1].apply(cut_half)\n",
    "    df_classification['Sub-classification'] = column_classifications[1].apply(cut_half)\n",
    "\n",
    "    \n",
    "    # 3.2 analyse \"salary\"\n",
    "    df_salary = df[~df.Classification.str.contains(':',case=True)]\n",
    "    df_salary = df_salary.rename(columns = {'Classification':'Salary'})\n",
    "    \n",
    "    # 3.3 merge \"classification\" and \"salary\"\n",
    "    df = pd.merge(df_classification, df_salary, how='outer')\n",
    "    df = df[[\"Job\", \"URL\", \"Company\", \"Posted Date\", \"Posted Place\", \"Classification\", \"Sub-classification\", \"Region\", \"City\", \"Salary\"]]\n",
    "    \n",
    "    \n",
    "    # 4. Refine \"salary\"\n",
    "    \n",
    "    # 4.1 separate into \"salary\" and \"salary info\"\n",
    "    df[\"Salary\"] = df[\"Salary\"].apply(find_number)\n",
    "    column_salary_info = df[\"Salary\"].str.split(\";\", n = 2, expand = True) \n",
    "    df[\"Salary\"] = column_salary_info[0]\n",
    "    if column_salary_info.shape[1] != 1:\n",
    "        df[\"Salary Info\"] = column_salary_info[1]\n",
    "    else:\n",
    "        df[\"Salary Info\"] = np.nan\n",
    "    \n",
    "    # 4.2 obtain the lowest and the highest salary\n",
    "    column_low_high = df[\"Salary\"].apply(low_high_salary, args=(file_id,))\n",
    "    column_low_high = column_low_high.str.split(\" \", n = -1, expand = True) \n",
    "    df[\"Lowest Salary\"] = column_low_high[0]\n",
    "    df[\"Higest Salary\"] = column_low_high[1]\n",
    "    df = df.drop('Salary',axis=1)\n",
    "    \n",
    "    \n",
    "    # 5 Merge \"Company\" and \"Posted Place\"\n",
    "    \n",
    "    df[\"Company\"] = df[\"Company\"].fillna(df['Posted Place'])\n",
    "    df = df.drop('Posted Place',axis=1)\n",
    "    \n",
    "    \n",
    "    # 6 Refine the posted date\n",
    "    df[\"Posted Date (Days Ago)\"] = df[\"Posted Date\"].apply(fix_posted_date)\n",
    "    df = df.drop('Posted Date',axis=1)\n",
    "    \n",
    "    \n",
    "    # 7 Refine \"Company\"\n",
    "    df[\"Company\"] = df[\"Company\"].apply(fix_company)\n",
    "    \n",
    "    \n",
    "    #8 Remove null\n",
    "    df = df.fillna(value='NO DATA')\n",
    "    \n",
    "    return df\n"
   ]
  },
  {
   "cell_type": "code",
   "execution_count": 10,
   "metadata": {},
   "outputs": [],
   "source": [
    "def print_info(df):\n",
    "    print(\"Total number of jobs: \"+str(len(df.index)))\n",
    "    print(\"Category of jobs: \"+str(len(df.Job.unique())))"
   ]
  },
  {
   "cell_type": "code",
   "execution_count": 11,
   "metadata": {},
   "outputs": [],
   "source": [
    "def load_col(df, col):\n",
    "    pd.set_option('display.max_colwidth', None)\n",
    "    nan_va = df[col].isna().sum()\n",
    "    print(df[col].head(15))\n",
    "    print(\"----------------------------------------------------------\")\n",
    "    print(\"There are \"+ str(nan_va)+\" NaN values out of \"+str(len(df.index))+\" jobs\")"
   ]
  },
  {
   "cell_type": "markdown",
   "metadata": {},
   "source": [
    "# --------------------------------Load data--------------------------------"
   ]
  },
  {
   "cell_type": "markdown",
   "metadata": {},
   "source": [
    "##### 1. Admin jobs"
   ]
  },
  {
   "cell_type": "code",
   "execution_count": 12,
   "metadata": {},
   "outputs": [],
   "source": [
    "df_admin = read_file(admin_file_name, admin_header_name, admin_id)"
   ]
  },
  {
   "cell_type": "markdown",
   "metadata": {},
   "source": [
    "##### 2. Banking jobs"
   ]
  },
  {
   "cell_type": "code",
   "execution_count": 13,
   "metadata": {},
   "outputs": [],
   "source": [
    "df_banking = read_file(banking_file_name, banking_header_name, banking_id)"
   ]
  },
  {
   "cell_type": "markdown",
   "metadata": {},
   "source": [
    "##### 3. CEO jobs"
   ]
  },
  {
   "cell_type": "code",
   "execution_count": 14,
   "metadata": {},
   "outputs": [],
   "source": [
    "df_ceo = read_file(ceo_file_name, ceo_header_name, ceo_id)"
   ]
  },
  {
   "cell_type": "markdown",
   "metadata": {},
   "source": [
    "#### 4. Construction jobs"
   ]
  },
  {
   "cell_type": "code",
   "execution_count": 15,
   "metadata": {},
   "outputs": [],
   "source": [
    "df_construction = read_file(construction_file_name, construction_header_name, construction_id)"
   ]
  },
  {
   "cell_type": "markdown",
   "metadata": {},
   "source": [
    "# --------------------------------The raw data is faulty--------------------------------"
   ]
  },
  {
   "cell_type": "markdown",
   "metadata": {},
   "source": [
    "### 1. The \"Company\" column"
   ]
  },
  {
   "cell_type": "code",
   "execution_count": 16,
   "metadata": {},
   "outputs": [
    {
     "name": "stdout",
     "output_type": "stream",
     "text": [
      "0                                                 NaN\n",
      "1                                Avenues Orthodontics\n",
      "2                                  New Zealand Police\n",
      "3            Kew Pacific Island Early Learning Centre\n",
      "4                                                 NaN\n",
      "5                     Ministry for Primary Industries\n",
      "6     Ministry of Business, Innovation and Employment\n",
      "7                              Hepburn Electrical Ltd\n",
      "8                                 Webster Holland Ltd\n",
      "9                                  New Zealand Police\n",
      "10                         Department of Conservation\n",
      "11                                    Triple One Care\n",
      "12     UIV Limited - Premier Insulation North Central\n",
      "13                        Wraight and Associates Ltd.\n",
      "14                    Morgan & Pollard Landscapes Ltd\n",
      "Name: Company, dtype: object\n",
      "----------------------------------------------------------\n",
      "There are 22 NaN values out of 2708 jobs\n"
     ]
    }
   ],
   "source": [
    "load_col(df_admin,\"Company\")"
   ]
  },
  {
   "cell_type": "markdown",
   "metadata": {},
   "source": [
    "There are 22 NaN values"
   ]
  },
  {
   "cell_type": "markdown",
   "metadata": {},
   "source": [
    "### 2. The \"Location\" column"
   ]
  },
  {
   "cell_type": "code",
   "execution_count": 17,
   "metadata": {},
   "outputs": [
    {
     "name": "stdout",
     "output_type": "stream",
     "text": [
      "0                                      location: Bay of PlentyBay of Plentyarea: TaurangaTauranga\n",
      "1                                      location: Bay of PlentyBay of Plentyarea: TaurangaTauranga\n",
      "2                                                                      location: AucklandAuckland\n",
      "3                                      location: SouthlandSouthlandarea: InvercargillInvercargill\n",
      "4                                    location: CanterburyCanterburyarea: ChristchurchChristchurch\n",
      "5                                            location: NorthlandNorthlandarea: WhangareiWhangarei\n",
      "6                        location: WellingtonWellingtonarea: Wellington CentralWellington Central\n",
      "7                                        location: Bay of PlentyBay of Plentyarea: RotoruaRotorua\n",
      "8                                      location: Bay of PlentyBay of Plentyarea: TaurangaTauranga\n",
      "9                                                                  location: CanterburyCanterbury\n",
      "10                       location: West CoastWest Coastarea: Rest of West CoastRest of West Coast\n",
      "11                                                       location: TasmanTasmanarea: NelsonNelson\n",
      "12    location: AucklandAucklandarea: Manukau & East AucklandManukau & East Auckland,$20 per hour\n",
      "13                       location: WellingtonWellingtonarea: Wellington CentralWellington Central\n",
      "14                       location: CanterburyCanterburyarea: Rest of CanterburyRest of Canterbury\n",
      "Name: Location, dtype: object\n",
      "----------------------------------------------------------\n",
      "There are 0 NaN values out of 2708 jobs\n"
     ]
    }
   ],
   "source": [
    "load_col(df_admin,\"Location\")"
   ]
  },
  {
   "cell_type": "markdown",
   "metadata": {},
   "source": [
    "1. There is a \"Location: \" at the beginning of every cell\n",
    "2. For some rows, the \"location\" and the \"area\" are merged together in one cell\n",
    "3. The location is duplicated\n",
    "4. In some rows, the payment is also merged into the cell"
   ]
  },
  {
   "cell_type": "markdown",
   "metadata": {},
   "source": [
    "### 3. The \"Posted Date\" column"
   ]
  },
  {
   "cell_type": "code",
   "execution_count": 18,
   "metadata": {},
   "outputs": [
    {
     "name": "stdout",
     "output_type": "stream",
     "text": [
      "0     Featured,at,Private Advertiser\n",
      "1                        Featured,at\n",
      "2                          4d ago,at\n",
      "3                          1h ago,at\n",
      "4       4d ago,at,Private Advertiser\n",
      "5                          9m ago,at\n",
      "6                          5d ago,at\n",
      "7                          7m ago,at\n",
      "8                          2h ago,at\n",
      "9                          3d ago,at\n",
      "10                         7d ago,at\n",
      "11                         5d ago,at\n",
      "12                         8d ago,at\n",
      "13                         3d ago,at\n",
      "14                         3d ago,at\n",
      "Name: Posted Date, dtype: object\n",
      "----------------------------------------------------------\n",
      "There are 0 NaN values out of 2708 jobs\n"
     ]
    }
   ],
   "source": [
    "load_col(df_admin,\"Posted Date\")"
   ]
  },
  {
   "cell_type": "markdown",
   "metadata": {},
   "source": [
    "1. Some rows have \"Featured,at,Private Advertiser\"\n",
    "2. Some rows have \"Featured,at,\"\n",
    "3. Some rows have \",Private Advertiser\" after the posted date\n",
    "4. Some are measured by \"m\" (months) and others are measured by \"d\" (days)"
   ]
  },
  {
   "cell_type": "markdown",
   "metadata": {},
   "source": [
    "### 4. The \"Classification\" column"
   ]
  },
  {
   "cell_type": "code",
   "execution_count": 19,
   "metadata": {},
   "outputs": [
    {
     "name": "stdout",
     "output_type": "stream",
     "text": [
      "0                             classification: Administration & Office SupportAdministration & Office SupportsubClassification: Office ManagementOffice Management\n",
      "1                                     classification: Administration & Office SupportAdministration & Office SupportsubClassification: ReceptionistsReceptionists\n",
      "2                                                     classification: Administration & Office SupportAdministration & Office SupportsubClassification: OtherOther\n",
      "3             classification: Administration & Office SupportAdministration & Office SupportsubClassification: Administrative AssistantsAdministrative Assistants\n",
      "4     classification: Administration & Office SupportAdministration & Office SupportsubClassification: Client & Sales AdministrationClient & Sales Administration\n",
      "5             classification: Administration & Office SupportAdministration & Office SupportsubClassification: Administrative AssistantsAdministrative Assistants\n",
      "6                                                     classification: Administration & Office SupportAdministration & Office SupportsubClassification: OtherOther\n",
      "7             classification: Administration & Office SupportAdministration & Office SupportsubClassification: Administrative AssistantsAdministrative Assistants\n",
      "8             classification: Administration & Office SupportAdministration & Office SupportsubClassification: Administrative AssistantsAdministrative Assistants\n",
      "9                                                     classification: Administration & Office SupportAdministration & Office SupportsubClassification: OtherOther\n",
      "10            classification: Administration & Office SupportAdministration & Office SupportsubClassification: Administrative AssistantsAdministrative Assistants\n",
      "11      classification: Administration & Office SupportAdministration & Office SupportsubClassification: Data Entry & Word ProcessingData Entry & Word Processing\n",
      "12                                                                                                                                                   $20 per hour\n",
      "13                            classification: Administration & Office SupportAdministration & Office SupportsubClassification: Office ManagementOffice Management\n",
      "14            classification: Administration & Office SupportAdministration & Office SupportsubClassification: Administrative AssistantsAdministrative Assistants\n",
      "Name: Classification, dtype: object\n",
      "----------------------------------------------------------\n",
      "There are 0 NaN values out of 2708 jobs\n"
     ]
    }
   ],
   "source": [
    "load_col(df_admin,\"Classification\")"
   ]
  },
  {
   "cell_type": "markdown",
   "metadata": {},
   "source": [
    "1. Every cell is merged with \"classification\" and \"subclassification\"\n",
    "2. Every cell starts with \"classification: \"\n",
    "3. Every cell has \"subClassification: \" in the middle\n",
    "4. Every classification and every subClassification are duplicated"
   ]
  },
  {
   "cell_type": "markdown",
   "metadata": {},
   "source": [
    "# ----------------------------------Data cleaning----------------------------------"
   ]
  },
  {
   "cell_type": "markdown",
   "metadata": {},
   "source": [
    "### 1. Admin "
   ]
  },
  {
   "cell_type": "code",
   "execution_count": 20,
   "metadata": {},
   "outputs": [
    {
     "data": {
      "text/html": [
       "<div>\n",
       "<style scoped>\n",
       "    .dataframe tbody tr th:only-of-type {\n",
       "        vertical-align: middle;\n",
       "    }\n",
       "\n",
       "    .dataframe tbody tr th {\n",
       "        vertical-align: top;\n",
       "    }\n",
       "\n",
       "    .dataframe thead th {\n",
       "        text-align: right;\n",
       "    }\n",
       "</style>\n",
       "<table border=\"1\" class=\"dataframe\">\n",
       "  <thead>\n",
       "    <tr style=\"text-align: right;\">\n",
       "      <th></th>\n",
       "      <th>Job</th>\n",
       "      <th>URL</th>\n",
       "      <th>Company</th>\n",
       "      <th>Classification</th>\n",
       "      <th>Sub-classification</th>\n",
       "      <th>Region</th>\n",
       "      <th>City</th>\n",
       "      <th>Salary Info</th>\n",
       "      <th>Lowest Salary</th>\n",
       "      <th>Higest Salary</th>\n",
       "      <th>Posted Date (Days Ago)</th>\n",
       "    </tr>\n",
       "  </thead>\n",
       "  <tbody>\n",
       "    <tr>\n",
       "      <th>0</th>\n",
       "      <td>Administrator</td>\n",
       "      <td>https://www.seek.co.nz/job/50582301?type=promoted#searchRequestToken=feee129e-c80f-4f79-ac5f-98ddb6d6c22b</td>\n",
       "      <td>Private Advertiser</td>\n",
       "      <td>Administration &amp; Office Support</td>\n",
       "      <td>Office Management</td>\n",
       "      <td>Bay of Plenty</td>\n",
       "      <td>Tauranga</td>\n",
       "      <td>NO DATA</td>\n",
       "      <td>44469</td>\n",
       "      <td>49720</td>\n",
       "      <td>0</td>\n",
       "    </tr>\n",
       "    <tr>\n",
       "      <th>1</th>\n",
       "      <td>Receptionist</td>\n",
       "      <td>https://www.seek.co.nz/job/50620889?type=promoted#searchRequestToken=feee129e-c80f-4f79-ac5f-98ddb6d6c22b</td>\n",
       "      <td>Avenues Orthodontics</td>\n",
       "      <td>Administration &amp; Office Support</td>\n",
       "      <td>Receptionists</td>\n",
       "      <td>Bay of Plenty</td>\n",
       "      <td>Tauranga</td>\n",
       "      <td>NO DATA</td>\n",
       "      <td>45928</td>\n",
       "      <td>46805</td>\n",
       "      <td>0</td>\n",
       "    </tr>\n",
       "    <tr>\n",
       "      <th>2</th>\n",
       "      <td>Prosecutions Support Officer</td>\n",
       "      <td>https://www.seek.co.nz/job/50622169?type=standard#searchRequestToken=feee129e-c80f-4f79-ac5f-98ddb6d6c22b</td>\n",
       "      <td>New Zealand Police</td>\n",
       "      <td>Administration &amp; Office Support</td>\n",
       "      <td>Other</td>\n",
       "      <td>Auckland</td>\n",
       "      <td>NO DATA</td>\n",
       "      <td>NO DATA</td>\n",
       "      <td>38776</td>\n",
       "      <td>44341</td>\n",
       "      <td>4</td>\n",
       "    </tr>\n",
       "    <tr>\n",
       "      <th>3</th>\n",
       "      <td>Early Childhood Centre Administrator</td>\n",
       "      <td>https://www.seek.co.nz/job/50639620?type=standard#searchRequestToken=feee129e-c80f-4f79-ac5f-98ddb6d6c22b</td>\n",
       "      <td>Kew Pacific Island Early Learning Centre</td>\n",
       "      <td>Administration &amp; Office Support</td>\n",
       "      <td>Administrative Assistants</td>\n",
       "      <td>Southland</td>\n",
       "      <td>Invercargill</td>\n",
       "      <td>NO DATA</td>\n",
       "      <td>54903</td>\n",
       "      <td>54961</td>\n",
       "      <td>0</td>\n",
       "    </tr>\n",
       "    <tr>\n",
       "      <th>4</th>\n",
       "      <td>Business Support Administrator</td>\n",
       "      <td>https://www.seek.co.nz/job/50622432?type=standout#searchRequestToken=feee129e-c80f-4f79-ac5f-98ddb6d6c22b</td>\n",
       "      <td>Private Advertiser</td>\n",
       "      <td>Administration &amp; Office Support</td>\n",
       "      <td>Client &amp; Sales Administration</td>\n",
       "      <td>Canterbury</td>\n",
       "      <td>Christchurch</td>\n",
       "      <td>NO DATA</td>\n",
       "      <td>50095</td>\n",
       "      <td>50788</td>\n",
       "      <td>4</td>\n",
       "    </tr>\n",
       "  </tbody>\n",
       "</table>\n",
       "</div>"
      ],
      "text/plain": [
       "                                    Job  \\\n",
       "0                         Administrator   \n",
       "1                          Receptionist   \n",
       "2          Prosecutions Support Officer   \n",
       "3  Early Childhood Centre Administrator   \n",
       "4        Business Support Administrator   \n",
       "\n",
       "                                                                                                         URL  \\\n",
       "0  https://www.seek.co.nz/job/50582301?type=promoted#searchRequestToken=feee129e-c80f-4f79-ac5f-98ddb6d6c22b   \n",
       "1  https://www.seek.co.nz/job/50620889?type=promoted#searchRequestToken=feee129e-c80f-4f79-ac5f-98ddb6d6c22b   \n",
       "2  https://www.seek.co.nz/job/50622169?type=standard#searchRequestToken=feee129e-c80f-4f79-ac5f-98ddb6d6c22b   \n",
       "3  https://www.seek.co.nz/job/50639620?type=standard#searchRequestToken=feee129e-c80f-4f79-ac5f-98ddb6d6c22b   \n",
       "4  https://www.seek.co.nz/job/50622432?type=standout#searchRequestToken=feee129e-c80f-4f79-ac5f-98ddb6d6c22b   \n",
       "\n",
       "                                    Company                   Classification  \\\n",
       "0                        Private Advertiser  Administration & Office Support   \n",
       "1                      Avenues Orthodontics  Administration & Office Support   \n",
       "2                        New Zealand Police  Administration & Office Support   \n",
       "3  Kew Pacific Island Early Learning Centre  Administration & Office Support   \n",
       "4                        Private Advertiser  Administration & Office Support   \n",
       "\n",
       "              Sub-classification         Region          City Salary Info  \\\n",
       "0              Office Management  Bay of Plenty      Tauranga     NO DATA   \n",
       "1                  Receptionists  Bay of Plenty      Tauranga     NO DATA   \n",
       "2                          Other       Auckland       NO DATA     NO DATA   \n",
       "3      Administrative Assistants      Southland  Invercargill     NO DATA   \n",
       "4  Client & Sales Administration     Canterbury  Christchurch     NO DATA   \n",
       "\n",
       "  Lowest Salary Higest Salary Posted Date (Days Ago)  \n",
       "0         44469         49720                      0  \n",
       "1         45928         46805                      0  \n",
       "2         38776         44341                      4  \n",
       "3         54903         54961                      0  \n",
       "4         50095         50788                      4  "
      ]
     },
     "execution_count": 20,
     "metadata": {},
     "output_type": "execute_result"
    }
   ],
   "source": [
    "df_admin_final = data_cleaning(df_admin, admin_id)\n",
    "df_admin_final.to_excel('Cleaned_NZ_Admin_JOBS.xlsx')\n",
    "df_admin_final.head()"
   ]
  },
  {
   "cell_type": "markdown",
   "metadata": {},
   "source": [
    "##### Admin job info"
   ]
  },
  {
   "cell_type": "code",
   "execution_count": 21,
   "metadata": {},
   "outputs": [
    {
     "name": "stdout",
     "output_type": "stream",
     "text": [
      "Total number of jobs: 2708\n",
      "Category of jobs: 548\n"
     ]
    }
   ],
   "source": [
    "print_info(df_admin_final)"
   ]
  },
  {
   "cell_type": "markdown",
   "metadata": {},
   "source": [
    "### 2. Banking"
   ]
  },
  {
   "cell_type": "code",
   "execution_count": 22,
   "metadata": {},
   "outputs": [
    {
     "data": {
      "text/html": [
       "<div>\n",
       "<style scoped>\n",
       "    .dataframe tbody tr th:only-of-type {\n",
       "        vertical-align: middle;\n",
       "    }\n",
       "\n",
       "    .dataframe tbody tr th {\n",
       "        vertical-align: top;\n",
       "    }\n",
       "\n",
       "    .dataframe thead th {\n",
       "        text-align: right;\n",
       "    }\n",
       "</style>\n",
       "<table border=\"1\" class=\"dataframe\">\n",
       "  <thead>\n",
       "    <tr style=\"text-align: right;\">\n",
       "      <th></th>\n",
       "      <th>Job</th>\n",
       "      <th>URL</th>\n",
       "      <th>Company</th>\n",
       "      <th>Classification</th>\n",
       "      <th>Sub-classification</th>\n",
       "      <th>Region</th>\n",
       "      <th>City</th>\n",
       "      <th>Salary Info</th>\n",
       "      <th>Lowest Salary</th>\n",
       "      <th>Higest Salary</th>\n",
       "      <th>Posted Date (Days Ago)</th>\n",
       "    </tr>\n",
       "  </thead>\n",
       "  <tbody>\n",
       "    <tr>\n",
       "      <th>0</th>\n",
       "      <td>Accounts Receivable</td>\n",
       "      <td>https://www.seek.co.nz/job/50568753?type=promoted#searchRequestToken=d0513dee-bb65-4c2d-ae6a-7f4b8838529d</td>\n",
       "      <td>MTF Finance Mt Wellington</td>\n",
       "      <td>Banking &amp; Financial Services</td>\n",
       "      <td>Credit</td>\n",
       "      <td>Auckland</td>\n",
       "      <td>Auckland Central</td>\n",
       "      <td>NO DATA</td>\n",
       "      <td>133684</td>\n",
       "      <td>138822</td>\n",
       "      <td>0</td>\n",
       "    </tr>\n",
       "    <tr>\n",
       "      <th>1</th>\n",
       "      <td>Internal Audit Manager</td>\n",
       "      <td>https://www.seek.co.nz/job/50556333?type=promoted#searchRequestToken=d0513dee-bb65-4c2d-ae6a-7f4b8838529d</td>\n",
       "      <td>Industrial and Commercial Bank of China (New Zealand) Ltd</td>\n",
       "      <td>Banking &amp; Financial Services</td>\n",
       "      <td>Compliance &amp; Risk</td>\n",
       "      <td>Auckland</td>\n",
       "      <td>Auckland Central</td>\n",
       "      <td>NO DATA</td>\n",
       "      <td>102776</td>\n",
       "      <td>110790</td>\n",
       "      <td>0</td>\n",
       "    </tr>\n",
       "    <tr>\n",
       "      <th>2</th>\n",
       "      <td>Client Services Officer</td>\n",
       "      <td>https://www.seek.co.nz/job/50638706?type=standard#searchRequestToken=d0513dee-bb65-4c2d-ae6a-7f4b8838529d</td>\n",
       "      <td>NZ Funds Management Limited</td>\n",
       "      <td>Banking &amp; Financial Services</td>\n",
       "      <td>Client Services</td>\n",
       "      <td>Auckland</td>\n",
       "      <td>Auckland Central</td>\n",
       "      <td>NO DATA</td>\n",
       "      <td>127174</td>\n",
       "      <td>129136</td>\n",
       "      <td>0</td>\n",
       "    </tr>\n",
       "    <tr>\n",
       "      <th>3</th>\n",
       "      <td>Private Wealth Assistant - Queenstown</td>\n",
       "      <td>https://www.seek.co.nz/job/50617226?type=standout#searchRequestToken=d0513dee-bb65-4c2d-ae6a-7f4b8838529d</td>\n",
       "      <td>Craigs Investment Partners</td>\n",
       "      <td>Banking &amp; Financial Services</td>\n",
       "      <td>Client Services</td>\n",
       "      <td>Otago</td>\n",
       "      <td>Queenstown &amp; Wanaka</td>\n",
       "      <td>NO DATA</td>\n",
       "      <td>95525</td>\n",
       "      <td>118825</td>\n",
       "      <td>5</td>\n",
       "    </tr>\n",
       "    <tr>\n",
       "      <th>4</th>\n",
       "      <td>Business Banking Credit Analyst</td>\n",
       "      <td>https://www.seek.co.nz/job/50615555?type=standout#searchRequestToken=d0513dee-bb65-4c2d-ae6a-7f4b8838529d</td>\n",
       "      <td>Kiwibank</td>\n",
       "      <td>Banking &amp; Financial Services</td>\n",
       "      <td>Banking - Business</td>\n",
       "      <td>Auckland</td>\n",
       "      <td>Auckland Central</td>\n",
       "      <td>NO DATA</td>\n",
       "      <td>93855</td>\n",
       "      <td>134126</td>\n",
       "      <td>5</td>\n",
       "    </tr>\n",
       "  </tbody>\n",
       "</table>\n",
       "</div>"
      ],
      "text/plain": [
       "                                     Job  \\\n",
       "0                    Accounts Receivable   \n",
       "1                 Internal Audit Manager   \n",
       "2                Client Services Officer   \n",
       "3  Private Wealth Assistant - Queenstown   \n",
       "4        Business Banking Credit Analyst   \n",
       "\n",
       "                                                                                                         URL  \\\n",
       "0  https://www.seek.co.nz/job/50568753?type=promoted#searchRequestToken=d0513dee-bb65-4c2d-ae6a-7f4b8838529d   \n",
       "1  https://www.seek.co.nz/job/50556333?type=promoted#searchRequestToken=d0513dee-bb65-4c2d-ae6a-7f4b8838529d   \n",
       "2  https://www.seek.co.nz/job/50638706?type=standard#searchRequestToken=d0513dee-bb65-4c2d-ae6a-7f4b8838529d   \n",
       "3  https://www.seek.co.nz/job/50617226?type=standout#searchRequestToken=d0513dee-bb65-4c2d-ae6a-7f4b8838529d   \n",
       "4  https://www.seek.co.nz/job/50615555?type=standout#searchRequestToken=d0513dee-bb65-4c2d-ae6a-7f4b8838529d   \n",
       "\n",
       "                                                     Company  \\\n",
       "0                                  MTF Finance Mt Wellington   \n",
       "1  Industrial and Commercial Bank of China (New Zealand) Ltd   \n",
       "2                                NZ Funds Management Limited   \n",
       "3                                 Craigs Investment Partners   \n",
       "4                                                   Kiwibank   \n",
       "\n",
       "                 Classification  Sub-classification    Region  \\\n",
       "0  Banking & Financial Services              Credit  Auckland   \n",
       "1  Banking & Financial Services   Compliance & Risk  Auckland   \n",
       "2  Banking & Financial Services     Client Services  Auckland   \n",
       "3  Banking & Financial Services     Client Services     Otago   \n",
       "4  Banking & Financial Services  Banking - Business  Auckland   \n",
       "\n",
       "                  City Salary Info Lowest Salary Higest Salary  \\\n",
       "0     Auckland Central     NO DATA        133684        138822   \n",
       "1     Auckland Central     NO DATA        102776        110790   \n",
       "2     Auckland Central     NO DATA        127174        129136   \n",
       "3  Queenstown & Wanaka     NO DATA         95525        118825   \n",
       "4     Auckland Central     NO DATA         93855        134126   \n",
       "\n",
       "  Posted Date (Days Ago)  \n",
       "0                      0  \n",
       "1                      0  \n",
       "2                      0  \n",
       "3                      5  \n",
       "4                      5  "
      ]
     },
     "execution_count": 22,
     "metadata": {},
     "output_type": "execute_result"
    }
   ],
   "source": [
    "df_banking_final = data_cleaning(df_banking, banking_id)\n",
    "df_banking_final.to_excel('Cleaned_NZ_Banking_JOBS.xlsx')\n",
    "df_banking_final.head()"
   ]
  },
  {
   "cell_type": "markdown",
   "metadata": {},
   "source": [
    "##### Banking job info"
   ]
  },
  {
   "cell_type": "code",
   "execution_count": 23,
   "metadata": {},
   "outputs": [
    {
     "name": "stdout",
     "output_type": "stream",
     "text": [
      "Total number of jobs: 3884\n",
      "Category of jobs: 202\n"
     ]
    }
   ],
   "source": [
    "print_info(df_banking_final)"
   ]
  },
  {
   "cell_type": "markdown",
   "metadata": {},
   "source": [
    "### 3. CEO "
   ]
  },
  {
   "cell_type": "code",
   "execution_count": 24,
   "metadata": {},
   "outputs": [
    {
     "data": {
      "text/html": [
       "<div>\n",
       "<style scoped>\n",
       "    .dataframe tbody tr th:only-of-type {\n",
       "        vertical-align: middle;\n",
       "    }\n",
       "\n",
       "    .dataframe tbody tr th {\n",
       "        vertical-align: top;\n",
       "    }\n",
       "\n",
       "    .dataframe thead th {\n",
       "        text-align: right;\n",
       "    }\n",
       "</style>\n",
       "<table border=\"1\" class=\"dataframe\">\n",
       "  <thead>\n",
       "    <tr style=\"text-align: right;\">\n",
       "      <th></th>\n",
       "      <th>Job</th>\n",
       "      <th>URL</th>\n",
       "      <th>Company</th>\n",
       "      <th>Classification</th>\n",
       "      <th>Sub-classification</th>\n",
       "      <th>Region</th>\n",
       "      <th>City</th>\n",
       "      <th>Salary Info</th>\n",
       "      <th>Lowest Salary</th>\n",
       "      <th>Higest Salary</th>\n",
       "      <th>Posted Date (Days Ago)</th>\n",
       "    </tr>\n",
       "  </thead>\n",
       "  <tbody>\n",
       "    <tr>\n",
       "      <th>0</th>\n",
       "      <td>Director (x2) - Auckland Transport</td>\n",
       "      <td>https://www.seek.co.nz/job/50540328?type=promoted#searchRequestToken=d332ca7a-0567-4b31-98b9-38f138640c55</td>\n",
       "      <td>Auckland Council</td>\n",
       "      <td>CEO &amp; General Management</td>\n",
       "      <td>Board Appointments</td>\n",
       "      <td>Auckland</td>\n",
       "      <td>Auckland Central</td>\n",
       "      <td>NO DATA</td>\n",
       "      <td>215151</td>\n",
       "      <td>239925</td>\n",
       "      <td>0</td>\n",
       "    </tr>\n",
       "    <tr>\n",
       "      <th>1</th>\n",
       "      <td>Director - Panuku Development</td>\n",
       "      <td>https://www.seek.co.nz/job/50540626?type=promoted#searchRequestToken=d332ca7a-0567-4b31-98b9-38f138640c55</td>\n",
       "      <td>Auckland Council</td>\n",
       "      <td>CEO &amp; General Management</td>\n",
       "      <td>Board Appointments</td>\n",
       "      <td>Auckland</td>\n",
       "      <td>Auckland Central</td>\n",
       "      <td>NO DATA</td>\n",
       "      <td>86151</td>\n",
       "      <td>219829</td>\n",
       "      <td>0</td>\n",
       "    </tr>\n",
       "    <tr>\n",
       "      <th>2</th>\n",
       "      <td>Chief Executive</td>\n",
       "      <td>https://www.seek.co.nz/job/50623700?type=standout#searchRequestToken=d332ca7a-0567-4b31-98b9-38f138640c55</td>\n",
       "      <td>JacksonStone &amp; Partners</td>\n",
       "      <td>CEO &amp; General Management</td>\n",
       "      <td>CEO</td>\n",
       "      <td>Wellington</td>\n",
       "      <td>Porirua &amp; Kapiti Coast</td>\n",
       "      <td>NO DATA</td>\n",
       "      <td>123544</td>\n",
       "      <td>205862</td>\n",
       "      <td>4</td>\n",
       "    </tr>\n",
       "    <tr>\n",
       "      <th>3</th>\n",
       "      <td>Chief Executive</td>\n",
       "      <td>https://www.seek.co.nz/job/50623848?type=standout#searchRequestToken=d332ca7a-0567-4b31-98b9-38f138640c55</td>\n",
       "      <td>JacksonStone &amp; Partners</td>\n",
       "      <td>CEO &amp; General Management</td>\n",
       "      <td>CEO</td>\n",
       "      <td>Manawatu</td>\n",
       "      <td>Wanganui</td>\n",
       "      <td>NO DATA</td>\n",
       "      <td>132343</td>\n",
       "      <td>189804</td>\n",
       "      <td>4</td>\n",
       "    </tr>\n",
       "    <tr>\n",
       "      <th>4</th>\n",
       "      <td>Chief Executive</td>\n",
       "      <td>https://www.seek.co.nz/job/50638864?type=standout#searchRequestToken=d332ca7a-0567-4b31-98b9-38f138640c55</td>\n",
       "      <td>Asset Recruitment Ltd</td>\n",
       "      <td>CEO &amp; General Management</td>\n",
       "      <td>CEO</td>\n",
       "      <td>Waikato</td>\n",
       "      <td>Hamilton</td>\n",
       "      <td>NO DATA</td>\n",
       "      <td>137135</td>\n",
       "      <td>170382</td>\n",
       "      <td>0</td>\n",
       "    </tr>\n",
       "  </tbody>\n",
       "</table>\n",
       "</div>"
      ],
      "text/plain": [
       "                                  Job  \\\n",
       "0  Director (x2) - Auckland Transport   \n",
       "1       Director - Panuku Development   \n",
       "2                     Chief Executive   \n",
       "3                     Chief Executive   \n",
       "4                     Chief Executive   \n",
       "\n",
       "                                                                                                         URL  \\\n",
       "0  https://www.seek.co.nz/job/50540328?type=promoted#searchRequestToken=d332ca7a-0567-4b31-98b9-38f138640c55   \n",
       "1  https://www.seek.co.nz/job/50540626?type=promoted#searchRequestToken=d332ca7a-0567-4b31-98b9-38f138640c55   \n",
       "2  https://www.seek.co.nz/job/50623700?type=standout#searchRequestToken=d332ca7a-0567-4b31-98b9-38f138640c55   \n",
       "3  https://www.seek.co.nz/job/50623848?type=standout#searchRequestToken=d332ca7a-0567-4b31-98b9-38f138640c55   \n",
       "4  https://www.seek.co.nz/job/50638864?type=standout#searchRequestToken=d332ca7a-0567-4b31-98b9-38f138640c55   \n",
       "\n",
       "                   Company            Classification  Sub-classification  \\\n",
       "0         Auckland Council  CEO & General Management  Board Appointments   \n",
       "1         Auckland Council  CEO & General Management  Board Appointments   \n",
       "2  JacksonStone & Partners  CEO & General Management                 CEO   \n",
       "3  JacksonStone & Partners  CEO & General Management                 CEO   \n",
       "4    Asset Recruitment Ltd  CEO & General Management                 CEO   \n",
       "\n",
       "       Region                    City Salary Info Lowest Salary Higest Salary  \\\n",
       "0    Auckland        Auckland Central     NO DATA        215151        239925   \n",
       "1    Auckland        Auckland Central     NO DATA         86151        219829   \n",
       "2  Wellington  Porirua & Kapiti Coast     NO DATA        123544        205862   \n",
       "3    Manawatu                Wanganui     NO DATA        132343        189804   \n",
       "4     Waikato                Hamilton     NO DATA        137135        170382   \n",
       "\n",
       "  Posted Date (Days Ago)  \n",
       "0                      0  \n",
       "1                      0  \n",
       "2                      4  \n",
       "3                      4  \n",
       "4                      0  "
      ]
     },
     "execution_count": 24,
     "metadata": {},
     "output_type": "execute_result"
    }
   ],
   "source": [
    "df_ceo_final = data_cleaning(df_ceo, ceo_id)\n",
    "df_ceo_final.to_excel('Cleaned_NZ_CEO_JOBS.xlsx')\n",
    "df_ceo_final.head()"
   ]
  },
  {
   "cell_type": "markdown",
   "metadata": {},
   "source": [
    "##### CEO job info"
   ]
  },
  {
   "cell_type": "code",
   "execution_count": 25,
   "metadata": {},
   "outputs": [
    {
     "name": "stdout",
     "output_type": "stream",
     "text": [
      "Total number of jobs: 2996\n",
      "Category of jobs: 95\n"
     ]
    }
   ],
   "source": [
    "print_info(df_ceo_final)"
   ]
  },
  {
   "cell_type": "markdown",
   "metadata": {},
   "source": [
    "### 4. Construction"
   ]
  },
  {
   "cell_type": "code",
   "execution_count": 26,
   "metadata": {},
   "outputs": [
    {
     "data": {
      "text/html": [
       "<div>\n",
       "<style scoped>\n",
       "    .dataframe tbody tr th:only-of-type {\n",
       "        vertical-align: middle;\n",
       "    }\n",
       "\n",
       "    .dataframe tbody tr th {\n",
       "        vertical-align: top;\n",
       "    }\n",
       "\n",
       "    .dataframe thead th {\n",
       "        text-align: right;\n",
       "    }\n",
       "</style>\n",
       "<table border=\"1\" class=\"dataframe\">\n",
       "  <thead>\n",
       "    <tr style=\"text-align: right;\">\n",
       "      <th></th>\n",
       "      <th>Job</th>\n",
       "      <th>URL</th>\n",
       "      <th>Company</th>\n",
       "      <th>Classification</th>\n",
       "      <th>Sub-classification</th>\n",
       "      <th>Region</th>\n",
       "      <th>City</th>\n",
       "      <th>Salary Info</th>\n",
       "      <th>Lowest Salary</th>\n",
       "      <th>Higest Salary</th>\n",
       "      <th>Posted Date (Days Ago)</th>\n",
       "    </tr>\n",
       "  </thead>\n",
       "  <tbody>\n",
       "    <tr>\n",
       "      <th>0</th>\n",
       "      <td>REGIONAL FOREMAN TELCO SECTOR TEAM LEADER AUCKLAND</td>\n",
       "      <td>https://www.seek.co.nz/job/50541089?type=promoted#searchRequestToken=4c2db3e6-3a96-4b1c-829d-b09d39b75a4c</td>\n",
       "      <td>Millennium Electrical Ltd</td>\n",
       "      <td>Construction</td>\n",
       "      <td>Foreperson/Supervisors</td>\n",
       "      <td>Auckland</td>\n",
       "      <td>Rodney &amp; North Shore</td>\n",
       "      <td>NO DATA</td>\n",
       "      <td></td>\n",
       "      <td>NO DATA</td>\n",
       "      <td>0</td>\n",
       "    </tr>\n",
       "    <tr>\n",
       "      <th>1</th>\n",
       "      <td>Bitumen Sprayer Operator</td>\n",
       "      <td>https://www.seek.co.nz/job/50548669?type=promoted#searchRequestToken=4c2db3e6-3a96-4b1c-829d-b09d39b75a4c</td>\n",
       "      <td>Johnstone &amp; Masters Ltd</td>\n",
       "      <td>Construction</td>\n",
       "      <td>Plant &amp; Machinery Operators</td>\n",
       "      <td>Bay of Plenty</td>\n",
       "      <td>Rotorua</td>\n",
       "      <td>NO DATA</td>\n",
       "      <td></td>\n",
       "      <td>NO DATA</td>\n",
       "      <td>0</td>\n",
       "    </tr>\n",
       "    <tr>\n",
       "      <th>2</th>\n",
       "      <td>General Labourers</td>\n",
       "      <td>https://www.seek.co.nz/job/50640801?type=standout#searchRequestToken=4c2db3e6-3a96-4b1c-829d-b09d39b75a4c</td>\n",
       "      <td>AWF</td>\n",
       "      <td>Construction</td>\n",
       "      <td>Other</td>\n",
       "      <td>Northland</td>\n",
       "      <td>Whangarei</td>\n",
       "      <td>NO DATA</td>\n",
       "      <td></td>\n",
       "      <td>NO DATA</td>\n",
       "      <td>0</td>\n",
       "    </tr>\n",
       "    <tr>\n",
       "      <th>3</th>\n",
       "      <td>Project Manager</td>\n",
       "      <td>https://www.seek.co.nz/job/50640890?type=standard#searchRequestToken=4c2db3e6-3a96-4b1c-829d-b09d39b75a4c</td>\n",
       "      <td>Faye Homes New Zealand Ltd</td>\n",
       "      <td>Construction</td>\n",
       "      <td>Project Management</td>\n",
       "      <td>Canterbury</td>\n",
       "      <td>Christchurch</td>\n",
       "      <td>NO DATA</td>\n",
       "      <td></td>\n",
       "      <td>NO DATA</td>\n",
       "      <td>0</td>\n",
       "    </tr>\n",
       "    <tr>\n",
       "      <th>4</th>\n",
       "      <td>OPERATIONS MANAGER</td>\n",
       "      <td>https://www.seek.co.nz/job/50639831?type=standard#searchRequestToken=4c2db3e6-3a96-4b1c-829d-b09d39b75a4c</td>\n",
       "      <td>Fraemohs Homes NZ Ltd</td>\n",
       "      <td>Construction</td>\n",
       "      <td>Management</td>\n",
       "      <td>Canterbury</td>\n",
       "      <td>Christchurch</td>\n",
       "      <td>NO DATA</td>\n",
       "      <td></td>\n",
       "      <td>NO DATA</td>\n",
       "      <td>0</td>\n",
       "    </tr>\n",
       "  </tbody>\n",
       "</table>\n",
       "</div>"
      ],
      "text/plain": [
       "                                                  Job  \\\n",
       "0  REGIONAL FOREMAN TELCO SECTOR TEAM LEADER AUCKLAND   \n",
       "1                            Bitumen Sprayer Operator   \n",
       "2                                   General Labourers   \n",
       "3                                     Project Manager   \n",
       "4                                  OPERATIONS MANAGER   \n",
       "\n",
       "                                                                                                         URL  \\\n",
       "0  https://www.seek.co.nz/job/50541089?type=promoted#searchRequestToken=4c2db3e6-3a96-4b1c-829d-b09d39b75a4c   \n",
       "1  https://www.seek.co.nz/job/50548669?type=promoted#searchRequestToken=4c2db3e6-3a96-4b1c-829d-b09d39b75a4c   \n",
       "2  https://www.seek.co.nz/job/50640801?type=standout#searchRequestToken=4c2db3e6-3a96-4b1c-829d-b09d39b75a4c   \n",
       "3  https://www.seek.co.nz/job/50640890?type=standard#searchRequestToken=4c2db3e6-3a96-4b1c-829d-b09d39b75a4c   \n",
       "4  https://www.seek.co.nz/job/50639831?type=standard#searchRequestToken=4c2db3e6-3a96-4b1c-829d-b09d39b75a4c   \n",
       "\n",
       "                      Company Classification           Sub-classification  \\\n",
       "0   Millennium Electrical Ltd   Construction       Foreperson/Supervisors   \n",
       "1     Johnstone & Masters Ltd   Construction  Plant & Machinery Operators   \n",
       "2                         AWF   Construction                        Other   \n",
       "3  Faye Homes New Zealand Ltd   Construction           Project Management   \n",
       "4       Fraemohs Homes NZ Ltd   Construction                   Management   \n",
       "\n",
       "          Region                  City Salary Info Lowest Salary  \\\n",
       "0       Auckland  Rodney & North Shore     NO DATA                 \n",
       "1  Bay of Plenty               Rotorua     NO DATA                 \n",
       "2      Northland             Whangarei     NO DATA                 \n",
       "3     Canterbury          Christchurch     NO DATA                 \n",
       "4     Canterbury          Christchurch     NO DATA                 \n",
       "\n",
       "  Higest Salary Posted Date (Days Ago)  \n",
       "0       NO DATA                      0  \n",
       "1       NO DATA                      0  \n",
       "2       NO DATA                      0  \n",
       "3       NO DATA                      0  \n",
       "4       NO DATA                      0  "
      ]
     },
     "execution_count": 26,
     "metadata": {},
     "output_type": "execute_result"
    }
   ],
   "source": [
    "df_construction_final = data_cleaning(df_construction, construction_id)\n",
    "df_construction_final.to_excel('Cleaned_NZ_Construction_JOBS.xlsx')\n",
    "df_construction_final.head()"
   ]
  },
  {
   "cell_type": "markdown",
   "metadata": {},
   "source": [
    "##### Construction job info"
   ]
  },
  {
   "cell_type": "code",
   "execution_count": 27,
   "metadata": {},
   "outputs": [
    {
     "name": "stdout",
     "output_type": "stream",
     "text": [
      "Total number of jobs: 23\n",
      "Category of jobs: 21\n"
     ]
    }
   ],
   "source": [
    "print_info(df_construction_final)"
   ]
  },
  {
   "cell_type": "code",
   "execution_count": null,
   "metadata": {},
   "outputs": [],
   "source": []
  }
 ],
 "metadata": {
  "kernelspec": {
   "display_name": "Python 3",
   "language": "python",
   "name": "python3"
  },
  "language_info": {
   "codemirror_mode": {
    "name": "ipython",
    "version": 3
   },
   "file_extension": ".py",
   "mimetype": "text/x-python",
   "name": "python",
   "nbconvert_exporter": "python",
   "pygments_lexer": "ipython3",
   "version": "3.6.13"
  }
 },
 "nbformat": 4,
 "nbformat_minor": 2
}
