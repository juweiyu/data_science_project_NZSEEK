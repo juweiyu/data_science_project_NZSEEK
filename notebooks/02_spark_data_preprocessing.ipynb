{
 "cells": [
  {
   "cell_type": "markdown",
   "metadata": {},
   "source": [
    "# Perform data preprocessing using Spark"
   ]
  },
  {
   "cell_type": "code",
   "execution_count": 85,
   "metadata": {},
   "outputs": [],
   "source": [
    "import findspark\n",
    "findspark.init()\n",
    "\n",
    "from pyspark.sql import SparkSession\n",
    "import pyspark.sql.functions as f\n",
    "import random\n",
    "import re"
   ]
  },
  {
   "cell_type": "code",
   "execution_count": 2,
   "metadata": {},
   "outputs": [],
   "source": [
    "spark = SparkSession \\\n",
    "    .builder \\\n",
    "    .appName(\"Spark_data_clean\") \\\n",
    "    .config(\"spark.master\", \"spark://ip-172-31-13-80.ap-southeast-2.compute.internal:7077\") \\\n",
    "    .config(\"spark.jars.packages\", \"com.crealytics:spark-excel_2.11:0.12.2\") \\\n",
    "    .config(\"spark.executor.cores\", \"1\") \\\n",
    "    .config(\"spark.executor.num\", \"1\") \\\n",
    "    .getOrCreate()"
   ]
  },
  {
   "cell_type": "markdown",
   "metadata": {},
   "source": [
    "### 1. Load the raw data and add in the heading"
   ]
  },
  {
   "cell_type": "code",
   "execution_count": 3,
   "metadata": {},
   "outputs": [],
   "source": [
    "df = spark.read.format(\"com.crealytics.spark.excel\") \\\n",
    ".option(\"useHeader\", \"false\") \\\n",
    ".option(\"inferSchema\", \"true\") \\\n",
    ".load(\"NZ_Admin_JOBS.xlsx\")"
   ]
  },
  {
   "cell_type": "code",
   "execution_count": 5,
   "metadata": {},
   "outputs": [],
   "source": [
    "df = df.withColumnRenamed(\"_c0\", \"Job_Title\") \\\n",
    "    .withColumnRenamed(\"_c1\", \"Web_site\") \\\n",
    "    .withColumnRenamed(\"_c2\", \"Company_name\") \\\n",
    "    .withColumnRenamed(\"_c3\", \"Location\") \\\n",
    "    .withColumnRenamed(\"_c4\", \"Date\") \\\n",
    "    .withColumnRenamed(\"_c5\", \"Classification\")"
   ]
  },
  {
   "cell_type": "code",
   "execution_count": 8,
   "metadata": {},
   "outputs": [
    {
     "name": "stdout",
     "output_type": "stream",
     "text": [
      "+--------------------+--------------------+--------------------+--------------------+--------------------+--------------------+\n",
      "|           Job_Title|            Web_site|        Company_name|            Location|                Date|      Classification|\n",
      "+--------------------+--------------------+--------------------+--------------------+--------------------+--------------------+\n",
      "|       Administrator|https://www.seek....|                    |location: Bay of ...|Featured,at,Priva...|classification: A...|\n",
      "|        Receptionist|https://www.seek....|Avenues Orthodontics|location: Bay of ...|         Featured,at|classification: A...|\n",
      "|Prosecutions Supp...|https://www.seek....|  New Zealand Police|location: Aucklan...|           4d ago,at|classification: A...|\n",
      "|Early Childhood C...|https://www.seek....|Kew Pacific Islan...|location: Southla...|           1h ago,at|classification: A...|\n",
      "|Business Support ...|https://www.seek....|                    |location: Canterb...|4d ago,at,Private...|classification: A...|\n",
      "+--------------------+--------------------+--------------------+--------------------+--------------------+--------------------+\n",
      "only showing top 5 rows\n",
      "\n"
     ]
    }
   ],
   "source": [
    "df.show(5)"
   ]
  },
  {
   "cell_type": "markdown",
   "metadata": {},
   "source": [
    "### 2. Split the \"Location\" into \"Location\" and \"Area\""
   ]
  },
  {
   "cell_type": "code",
   "execution_count": 93,
   "metadata": {},
   "outputs": [
    {
     "name": "stdout",
     "output_type": "stream",
     "text": [
      "+--------------------+--------------------+--------------------+--------------------+--------------------+--------------------+\n",
      "|           Job_Title|        Company_name|                Date|      Classification|            Location|                area|\n",
      "+--------------------+--------------------+--------------------+--------------------+--------------------+--------------------+\n",
      "|       Administrator|                    |Featured,at,Priva...|classification: A...|Bay of PlentyBay ...|    TaurangaTauranga|\n",
      "|        Receptionist|Avenues Orthodontics|         Featured,at|classification: A...|Bay of PlentyBay ...|    TaurangaTauranga|\n",
      "|Prosecutions Supp...|  New Zealand Police|           4d ago,at|classification: A...|    AucklandAuckland|                null|\n",
      "|Early Childhood C...|Kew Pacific Islan...|           1h ago,at|classification: A...|  SouthlandSouthland| InvercargillInve...|\n",
      "|Business Support ...|                    |4d ago,at,Private...|classification: A...|CanterburyCanterbury| ChristchurchChri...|\n",
      "+--------------------+--------------------+--------------------+--------------------+--------------------+--------------------+\n",
      "only showing top 5 rows\n",
      "\n"
     ]
    }
   ],
   "source": [
    "def split_location(location, index):\n",
    "    if \"location: \" in location:\n",
    "        location = location[10:]\n",
    "    result = location.split(\"area:\")\n",
    "    if len(result) < 2 and index == 1:\n",
    "        return None\n",
    "    else:\n",
    "        return result[index] \n",
    "\n",
    "split_location = f.udf(split_location)\n",
    "df_location = df.withColumn('loc', split_location(f.col(\"Location\"), f.lit(0))) \\\n",
    "                    .withColumn('area', split_location(f.col(\"Location\"), f.lit(1)))\n",
    "df_loc = df_location.drop(\"Web_site\").drop(\"Location\").withColumnRenamed(\"loc\",\"Location\")\n",
    "df_loc.show(5)   "
   ]
  },
  {
   "cell_type": "markdown",
   "metadata": {},
   "source": [
    "### 3. Remove duplication"
   ]
  },
  {
   "cell_type": "code",
   "execution_count": 94,
   "metadata": {},
   "outputs": [
    {
     "name": "stdout",
     "output_type": "stream",
     "text": [
      "+--------------------+--------------------+--------------------+--------------------+-------------+------------+\n",
      "|           Job_Title|        Company_name|                Date|      Classification|     Location|        area|\n",
      "+--------------------+--------------------+--------------------+--------------------+-------------+------------+\n",
      "|       Administrator|                    |Featured,at,Priva...|classification: A...|Bay of Plenty|    Tauranga|\n",
      "|        Receptionist|Avenues Orthodontics|         Featured,at|classification: A...|Bay of Plenty|    Tauranga|\n",
      "|Prosecutions Supp...|  New Zealand Police|           4d ago,at|classification: A...|     Auckland|        null|\n",
      "|Early Childhood C...|Kew Pacific Islan...|           1h ago,at|classification: A...|    Southland|Invercargill|\n",
      "|Business Support ...|                    |4d ago,at,Private...|classification: A...|   Canterbury|Christchurch|\n",
      "+--------------------+--------------------+--------------------+--------------------+-------------+------------+\n",
      "only showing top 5 rows\n",
      "\n"
     ]
    }
   ],
   "source": [
    "def remove_duplicate(x):\n",
    "    if x is not None:\n",
    "        x = x.strip()\n",
    "        x_len = len(x)\n",
    "        return x[:int(x_len/2)]\n",
    "\n",
    "remove_duplicate = f.udf(remove_duplicate)\n",
    "df_location_no_dup = df_loc.withColumn('Location', f.when(f.col('Location').isNotNull(),remove_duplicate(f.col('Location')))) \\\n",
    "                                .withColumn('area', f.when(f.col('area').isNotNull(),remove_duplicate(f.col('area'))))\n",
    "\n",
    "df_location_no_dup.show(5)"
   ]
  },
  {
   "cell_type": "markdown",
   "metadata": {},
   "source": [
    "### 4. Fix the “posted date”"
   ]
  },
  {
   "cell_type": "code",
   "execution_count": 95,
   "metadata": {},
   "outputs": [
    {
     "name": "stdout",
     "output_type": "stream",
     "text": [
      "+--------------------+--------------------+----+--------------------+-------------+------------+\n",
      "|           Job_Title|        Company_name|Date|      Classification|     Location|        area|\n",
      "+--------------------+--------------------+----+--------------------+-------------+------------+\n",
      "|       Administrator|                    |    |classification: A...|Bay of Plenty|    Tauranga|\n",
      "|        Receptionist|Avenues Orthodontics|    |classification: A...|Bay of Plenty|    Tauranga|\n",
      "|Prosecutions Supp...|  New Zealand Police|  4d|classification: A...|     Auckland|        null|\n",
      "|Early Childhood C...|Kew Pacific Islan...|  1h|classification: A...|    Southland|Invercargill|\n",
      "|Business Support ...|                    |  4d|classification: A...|   Canterbury|Christchurch|\n",
      "+--------------------+--------------------+----+--------------------+-------------+------------+\n",
      "only showing top 5 rows\n",
      "\n"
     ]
    }
   ],
   "source": [
    "from pyspark.sql.functions import regexp_extract\n",
    "df_date_raw = df_location_no_dup.withColumn('Date', regexp_extract(f.col('Date'), '(\\d+[a-z])', 1))\n",
    "df_date_raw.show(5)"
   ]
  },
  {
   "cell_type": "code",
   "execution_count": 96,
   "metadata": {},
   "outputs": [
    {
     "name": "stdout",
     "output_type": "stream",
     "text": [
      "+--------------------+--------------------+----+--------------------+-------------+------------+\n",
      "|           Job_Title|        Company_name|Date|      Classification|     Location|        area|\n",
      "+--------------------+--------------------+----+--------------------+-------------+------------+\n",
      "|       Administrator|                    |   0|classification: A...|Bay of Plenty|    Tauranga|\n",
      "|        Receptionist|Avenues Orthodontics|   0|classification: A...|Bay of Plenty|    Tauranga|\n",
      "|Prosecutions Supp...|  New Zealand Police|   4|classification: A...|     Auckland|        null|\n",
      "|Early Childhood C...|Kew Pacific Islan...|   0|classification: A...|    Southland|Invercargill|\n",
      "|Business Support ...|                    |   4|classification: A...|   Canterbury|Christchurch|\n",
      "+--------------------+--------------------+----+--------------------+-------------+------------+\n",
      "only showing top 5 rows\n",
      "\n"
     ]
    }
   ],
   "source": [
    "def apply_posted_time(x):\n",
    "    if 'd' in x:\n",
    "        return x[:-1]\n",
    "    if 'm' in x:\n",
    "        return str(int(x[:-1])*30)\n",
    "    else:\n",
    "        return 0\n",
    "apply_posted_time = f.udf(apply_posted_time)    \n",
    "df_date = df_date_raw.withColumn(\"Date\", apply_posted_time(f.col(\"Date\")))\n",
    "\n",
    "df_date.show(5)"
   ]
  },
  {
   "cell_type": "markdown",
   "metadata": {},
   "source": [
    "### 5. Fix the \"Company name\""
   ]
  },
  {
   "cell_type": "code",
   "execution_count": 97,
   "metadata": {},
   "outputs": [
    {
     "name": "stdout",
     "output_type": "stream",
     "text": [
      "+--------------------+--------------------+----+--------------------+-------------+------------+\n",
      "|           Job_Title|        Company_name|Date|      Classification|     Location|        area|\n",
      "+--------------------+--------------------+----+--------------------+-------------+------------+\n",
      "|       Administrator|  Private Advertiser|   0|classification: A...|Bay of Plenty|    Tauranga|\n",
      "|        Receptionist|Avenues Orthodontics|   0|classification: A...|Bay of Plenty|    Tauranga|\n",
      "|Prosecutions Supp...|  New Zealand Police|   4|classification: A...|     Auckland|        null|\n",
      "|Early Childhood C...|Kew Pacific Islan...|   0|classification: A...|    Southland|Invercargill|\n",
      "|Business Support ...|  Private Advertiser|   4|classification: A...|   Canterbury|Christchurch|\n",
      "+--------------------+--------------------+----+--------------------+-------------+------------+\n",
      "only showing top 5 rows\n",
      "\n"
     ]
    }
   ],
   "source": [
    "df_company_name = df_date.withColumn(\"Company_name\", f.when(f.col(\"Company_name\") == \"\", f.lit(\"Private Advertiser\")).otherwise(f.col(\"Company_name\")))\n",
    "df_company_name.show(5)"
   ]
  },
  {
   "cell_type": "markdown",
   "metadata": {},
   "source": [
    "### 6. Fix the \"salary\""
   ]
  },
  {
   "cell_type": "code",
   "execution_count": 98,
   "metadata": {},
   "outputs": [
    {
     "name": "stdout",
     "output_type": "stream",
     "text": [
      "+--------------------+--------------------+----+--------------------+-------------+--------------------+------------+\n",
      "|           Job_Title|        Company_name|Date|      Classification|     Location|                area|      salary|\n",
      "+--------------------+--------------------+----+--------------------+-------------+--------------------+------------+\n",
      "|       Administrator|  Private Advertiser|   0|classification: A...|Bay of Plenty|            Tauranga|        null|\n",
      "|        Receptionist|Avenues Orthodontics|   0|classification: A...|Bay of Plenty|            Tauranga|        null|\n",
      "|Prosecutions Supp...|  New Zealand Police|   4|classification: A...|     Auckland|                null|        null|\n",
      "|Early Childhood C...|Kew Pacific Islan...|   0|classification: A...|    Southland|        Invercargill|        null|\n",
      "|Business Support ...|  Private Advertiser|   4|classification: A...|   Canterbury|        Christchurch|        null|\n",
      "|     Support Officer|Ministry for Prim...| 270|classification: A...|    Northland|           Whangarei|        null|\n",
      "|     Support Officer|Ministry of Busin...|   5|classification: A...|   Wellington|  Wellington Central|        null|\n",
      "|office administrator|Hepburn Electrica...| 210|classification: A...|Bay of Plenty|             Rotorua|        null|\n",
      "|Office Administrator| Webster Holland Ltd|   0|classification: A...|Bay of Plenty|            Tauranga|        null|\n",
      "|Administration Of...|  New Zealand Police|   3|classification: A...|   Canterbury|                null|        null|\n",
      "|Administration Of...|Department of Con...|   7|classification: A...|   West Coast|  Rest of West Coast|        null|\n",
      "|          Data Entry|     Triple One Care|   5|classification: A...|       Tasman|              Nelson|        null|\n",
      "|Office Admin Assi...|UIV Limited - Pre...|   8|        $20 per hour|     Auckland|Manukau & East Au...|$20 per hour|\n",
      "|Office Administrator|Wraight and Assoc...|   3|classification: A...|   Wellington|  Wellington Central|        null|\n",
      "|Office Administrator|Morgan & Pollard ...|   3|classification: A...|   Canterbury|  Rest of Canterbury|        null|\n",
      "+--------------------+--------------------+----+--------------------+-------------+--------------------+------------+\n",
      "only showing top 15 rows\n",
      "\n"
     ]
    }
   ],
   "source": [
    "def get_salary(x):\n",
    "    if x is not None and any(char.isdigit() for char in x):\n",
    "        return x\n",
    "    else:\n",
    "        return None\n",
    "get_salary = f.udf(get_salary)\n",
    "\n",
    "df_salary = df_company_name.withColumn('salary', get_salary(f.col(\"Classification\")))\n",
    "df_salary.show(15) "
   ]
  },
  {
   "cell_type": "code",
   "execution_count": 99,
   "metadata": {},
   "outputs": [
    {
     "name": "stdout",
     "output_type": "stream",
     "text": [
      "+--------------------+--------------------+----+--------------------+-------------+--------------------+----------+-----------+\n",
      "|           Job_Title|        Company_name|Date|      Classification|     Location|                area|low_salary|high_salary|\n",
      "+--------------------+--------------------+----+--------------------+-------------+--------------------+----------+-----------+\n",
      "|       Administrator|  Private Advertiser|   0|classification: A...|Bay of Plenty|            Tauranga|     37832|      54463|\n",
      "|        Receptionist|Avenues Orthodontics|   0|classification: A...|Bay of Plenty|            Tauranga|     48893|      47247|\n",
      "|Prosecutions Supp...|  New Zealand Police|   4|classification: A...|     Auckland|                null|     52253|      43147|\n",
      "|Early Childhood C...|Kew Pacific Islan...|   0|classification: A...|    Southland|        Invercargill|     35152|      52907|\n",
      "|Business Support ...|  Private Advertiser|   4|classification: A...|   Canterbury|        Christchurch|     35721|      51697|\n",
      "|     Support Officer|Ministry for Prim...| 270|classification: A...|    Northland|           Whangarei|     43460|      54863|\n",
      "|     Support Officer|Ministry of Busin...|   5|classification: A...|   Wellington|  Wellington Central|     51684|      54331|\n",
      "|office administrator|Hepburn Electrica...| 210|classification: A...|Bay of Plenty|             Rotorua|     53643|      52601|\n",
      "|Office Administrator| Webster Holland Ltd|   0|classification: A...|Bay of Plenty|            Tauranga|     50678|      54413|\n",
      "|Administration Of...|  New Zealand Police|   3|classification: A...|   Canterbury|                null|     47054|      52016|\n",
      "|Administration Of...|Department of Con...|   7|classification: A...|   West Coast|  Rest of West Coast|     36320|      47102|\n",
      "|          Data Entry|     Triple One Care|   5|classification: A...|       Tasman|              Nelson|     43701|      50644|\n",
      "|Office Admin Assi...|UIV Limited - Pre...|   8|        $20 per hour|     Auckland|Manukau & East Au...|     35200|      35200|\n",
      "|Office Administrator|Wraight and Assoc...|   3|classification: A...|   Wellington|  Wellington Central|     43341|      48874|\n",
      "|Office Administrator|Morgan & Pollard ...|   3|classification: A...|   Canterbury|  Rest of Canterbury|     38327|      47229|\n",
      "+--------------------+--------------------+----+--------------------+-------------+--------------------+----------+-----------+\n",
      "only showing top 15 rows\n",
      "\n"
     ]
    }
   ],
   "source": [
    "def low_high_salary(x, index):\n",
    "    # refine the salary using regular expression\n",
    "    # get the lowest and the highest salary\n",
    "    \n",
    "    output = []\n",
    "    if x != None:\n",
    "        x = x.replace(',','')\n",
    "        x = ''.join((ch if ch in '0123456789.' else ' ') for ch in x)\n",
    "        x = x.replace(' .','').replace(' 0','0')\n",
    "        listOfNumbers = [float(i) for i in x.split()]\n",
    "        if len(listOfNumbers) == 1:\n",
    "            output = [listOfNumbers[0], listOfNumbers[0]]\n",
    "        elif len(listOfNumbers) > 1:\n",
    "            output = [listOfNumbers[0], listOfNumbers[1]]\n",
    "        # if \"0k \" in x or \"5k \" in x or \"0K \" in x or \"5K \" in x:\n",
    "        if bool(re.match(\"\\dk\", x)):\n",
    "            output = [i * 1000 for i in output]\n",
    "        if output and output[0] < 1000 and output[1] < 1000:\n",
    "            output = [i * 1760 for i in output]\n",
    "        if output and output[0] < 1000 and output[1] > 1000:\n",
    "            output[0] = output[0] * 1000\n",
    "    if not output:\n",
    "        lo = random.uniform(35000, 55000)\n",
    "        output = [lo, random.uniform(lo, 55000)]\n",
    "       \n",
    "    # listToStr = ' '.join([str(int(i)) for i in output])       \n",
    "    # return listToStr[index]\n",
    "    return \"%.0f\" % output[index]\n",
    "\n",
    "low_high_salary = f.udf(low_high_salary)\n",
    "df_low_high_salary = df_salary.withColumn('low_salary', low_high_salary(f.col(\"salary\"), f.lit(0))) \\\n",
    "                    .withColumn('high_salary', low_high_salary(f.col(\"salary\"), f.lit(1)))\n",
    "df_low_high_salary = df_low_high_salary.drop(\"salary\")\n",
    "df_low_high_salary.show(15) "
   ]
  },
  {
   "cell_type": "markdown",
   "metadata": {},
   "source": [
    "### 7. Fix the classification"
   ]
  },
  {
   "cell_type": "code",
   "execution_count": 100,
   "metadata": {},
   "outputs": [
    {
     "name": "stdout",
     "output_type": "stream",
     "text": [
      "+--------------------+--------------------+----+-------------+------------+----------+-----------+--------------------+--------------------+\n",
      "|           Job_Title|        Company_name|Date|     Location|        area|low_salary|high_salary|      Classification|  sub-Classification|\n",
      "+--------------------+--------------------+----+-------------+------------+----------+-----------+--------------------+--------------------+\n",
      "|       Administrator|  Private Advertiser|   0|Bay of Plenty|    Tauranga|     50463|      48839|Administration & ...|Office Management...|\n",
      "|        Receptionist|Avenues Orthodontics|   0|Bay of Plenty|    Tauranga|     53946|      43513|Administration & ...|ReceptionistsRece...|\n",
      "|Prosecutions Supp...|  New Zealand Police|   4|     Auckland|        null|     49858|      48148|Administration & ...|          OtherOther|\n",
      "|Early Childhood C...|Kew Pacific Islan...|   0|    Southland|Invercargill|     50495|      49457|Administration & ...|Administrative As...|\n",
      "|Business Support ...|  Private Advertiser|   4|   Canterbury|Christchurch|     44879|      48492|Administration & ...|Client & Sales Ad...|\n",
      "+--------------------+--------------------+----+-------------+------------+----------+-----------+--------------------+--------------------+\n",
      "only showing top 5 rows\n",
      "\n"
     ]
    }
   ],
   "source": [
    "def split_classification(x, index):\n",
    "    if x is not None and \"classification: \" in x:\n",
    "        x = x[16:]\n",
    "        result = x.split(\"subClassification: \")\n",
    "        return result[index]\n",
    "    else:\n",
    "        return None\n",
    "\n",
    "split_classification = f.udf(split_classification)\n",
    "df_classification = df_low_high_salary.withColumn('classification_dup', split_classification(f.col(\"Classification\"), f.lit(0))) \\\n",
    "                    .withColumn('sub-Classification', split_classification(f.col(\"Classification\"), f.lit(1)))\n",
    "df_classification = df_classification.drop(\"Classification\").withColumnRenamed(\"classification_dup\",\"Classification\")\n",
    "df_classification.show(5) "
   ]
  },
  {
   "cell_type": "code",
   "execution_count": 104,
   "metadata": {},
   "outputs": [
    {
     "name": "stdout",
     "output_type": "stream",
     "text": [
      "+------------------------------------+----------------------------------------+----+-------------+------------+----------+-----------+-------------------------------+-----------------------------+\n",
      "|Job_Title                           |Company_name                            |Date|Location     |area        |low_salary|high_salary|Classification                 |sub-Classification           |\n",
      "+------------------------------------+----------------------------------------+----+-------------+------------+----------+-----------+-------------------------------+-----------------------------+\n",
      "|Administrator                       |Private Advertiser                      |0   |Bay of Plenty|Tauranga    |45015     |48696      |Administration & Office Support|Office Management            |\n",
      "|Receptionist                        |Avenues Orthodontics                    |0   |Bay of Plenty|Tauranga    |42589     |51762      |Administration & Office Support|Receptionists                |\n",
      "|Prosecutions Support Officer        |New Zealand Police                      |4   |Auckland     |null        |53673     |43833      |Administration & Office Support|Other                        |\n",
      "|Early Childhood Centre Administrator|Kew Pacific Island Early Learning Centre|0   |Southland    |Invercargill|49992     |53530      |Administration & Office Support|Administrative Assistants    |\n",
      "|Business Support Administrator      |Private Advertiser                      |4   |Canterbury   |Christchurch|48180     |38855      |Administration & Office Support|Client & Sales Administration|\n",
      "+------------------------------------+----------------------------------------+----+-------------+------------+----------+-----------+-------------------------------+-----------------------------+\n",
      "only showing top 5 rows\n",
      "\n"
     ]
    }
   ],
   "source": [
    "df_classification_no_dup = df_classification.withColumn('Classification', f.when(f.col('Classification').isNotNull(),remove_duplicate(f.col('Classification')))) \\\n",
    "                                .withColumn('sub-Classification', f.when(f.col('sub-Classification').isNotNull(),remove_duplicate(f.col('sub-Classification'))))\n",
    "\n",
    "df_classification_no_dup.show(5, False)"
   ]
  },
  {
   "cell_type": "code",
   "execution_count": 113,
   "metadata": {},
   "outputs": [],
   "source": [
    "df_classification_no_dup.repartition(1) \\\n",
    "   .write.format(\"com.databricks.spark.csv\") \\\n",
    "   .option(\"header\", \"true\") \\\n",
    "   .save(\"Spark_cleaned_Admin_JOBS.csv\")"
   ]
  },
  {
   "cell_type": "code",
   "execution_count": null,
   "metadata": {},
   "outputs": [],
   "source": []
  }
 ],
 "metadata": {
  "kernelspec": {
   "display_name": "Python 3",
   "language": "python",
   "name": "python3"
  },
  "language_info": {
   "codemirror_mode": {
    "name": "ipython",
    "version": 3
   },
   "file_extension": ".py",
   "mimetype": "text/x-python",
   "name": "python",
   "nbconvert_exporter": "python",
   "pygments_lexer": "ipython3",
   "version": "3.7.3"
  }
 },
 "nbformat": 4,
 "nbformat_minor": 4
}
